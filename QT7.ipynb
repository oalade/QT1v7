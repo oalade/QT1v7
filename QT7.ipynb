{
 "cells": [
  {
   "cell_type": "markdown",
   "metadata": {},
   "source": [
    "############ Automatically Open Barchart and Download Range Changers #####################"
   ]
  },
  {
   "cell_type": "markdown",
   "metadata": {},
   "source": [
    "pip install selenium; pip install chromedriver-binary==80.0.3987.106"
   ]
  },
  {
   "cell_type": "code",
   "execution_count": 1,
   "metadata": {},
   "outputs": [],
   "source": [
    "import time\n",
    "from datetime import datetime\n",
    "\n",
    "from selenium import webdriver\n",
    "from selenium.webdriver.common.by import By\n",
    "from selenium.webdriver.support.ui import WebDriverWait\n",
    "from selenium.webdriver.support import expected_conditions as EC\n",
    "import chromedriver_binary"
   ]
  },
  {
   "cell_type": "code",
   "execution_count": 10,
   "metadata": {},
   "outputs": [],
   "source": [
    "def QT1v7():\n",
    "\n",
    "    hrs = 1\n",
    "    #hrs = 0.001\n",
    "    print('wait %s hours' % hrs)\n",
    "    time.sleep(3600*hrs) # wait x hours\n",
    "    print('check1')\n",
    "\n",
    "    date = (datetime.now().strftime('%m.%d.%Y_'))\n",
    "    min_sec = [('06.20', '06.21')]\n",
    "    #min_sec = [('11.27', '11.28')]\n",
    "    start_time=(date+min_sec[0][0]); start_time2=(date+min_sec[0][1])\n",
    "    print('starting between %s and %s' % (start_time, start_time2))\n",
    "    print('check2')\n",
    "\n",
    "    for n in list(range(86000)):\n",
    "        if datetime.now().strftime('%m.%d.%Y_%H.%M') == start_time or datetime.now().strftime('%m.%d.%Y_%H.%M') == start_time2:\n",
    "            print('loading QT1-7 Range Changers at %s' % (datetime.now().strftime('%m.%d.%Y_%H.%M')))\n",
    "            \n",
    "            #LoadRangeChangers()\n",
    "            driver = webdriver.Chrome(executable_path=r\"C:\\Users\\USER\\Downloads\\chromedriver_win32/chromedriver.exe\")\n",
    "            driver.get(\"https://www.barchart.com/stocks/performance/range-change/advances\") # open webpage\n",
    "            time.sleep(10); print('status update: opened webpage and logging in')\n",
    "\n",
    "            driver.find_element_by_link_text('Log In').click() #Click log in button\n",
    "            username = driver.find_element_by_name(\"email\"); username.clear()\n",
    "            username.send_keys(\"olualade1@gmail.com\")\n",
    "            password = driver.find_element_by_name(\"password\"); password.clear()\n",
    "            password.send_keys(\"jetATs9v\")\n",
    "            driver.find_element_by_xpath('//*[@id=\"bc-login-form\"]/div[4]/button').click()\n",
    "            time.sleep(10); print('status update: successfully logged in and waiting to download range changers')\n",
    "            print('check3a')\n",
    "\n",
    "            min_sec = [('06.30', '06.31'), ('06.40', '06.41'), ('06.50', '06.51'), ('07.00', '07.01'), ('07.30', '07.31')]\n",
    "            #min_sec = [('06.31', '11.32'), ('11.35', '10.36')]\n",
    "            for m in min_sec:\n",
    "                    date = (datetime.now().strftime('%m.%d.%Y_'))\n",
    "                    start_time=(date+m[0]); start_time2=(date+m[1])\n",
    "                    print(start_time); print(start_time2);print()\n",
    "                    state = True\n",
    "                    print('check4')\n",
    "\n",
    "                    while state == True:\n",
    "                        #for n in list(range(86000)):\n",
    "                        if datetime.now().strftime('%m.%d.%Y_%H.%M') == start_time or datetime.now().strftime('%m.%d.%Y_%H.%M') == start_time2:\n",
    "                            print('downloading range changers at %s' % (datetime.now().strftime('%m.%d.%Y_%H.%M')))\n",
    "                            \n",
    "                            driver.find_element_by_xpath(\"/html/body/div[2]/div/div[2]/div[2]/div/div/div/div/div/div[4]/div[2]/div[2]/a[3]/span\").click() #click download button\n",
    "                            print('status update: successfully downloaded range changers')\n",
    "                            print('check5a')\n",
    "                            \n",
    "                            state = False\n",
    "                            print('check5c')\n",
    "                            time.sleep(150) #sleep x seconds\n",
    "                            print('check5d')\n",
    "                        else:\n",
    "                            time.sleep(25) #sleep x seconds\n",
    "                            print('check5b')\n",
    "        else:\n",
    "            time.sleep(25) #sleep x seconds\n",
    "            print('check3b')\n"
   ]
  },
  {
   "cell_type": "code",
   "execution_count": null,
   "metadata": {},
   "outputs": [],
   "source": []
  }
 ],
 "metadata": {
  "kernelspec": {
   "display_name": "Python 3",
   "language": "python",
   "name": "python3"
  },
  "language_info": {
   "codemirror_mode": {
    "name": "ipython",
    "version": 3
   },
   "file_extension": ".py",
   "mimetype": "text/x-python",
   "name": "python",
   "nbconvert_exporter": "python",
   "pygments_lexer": "ipython3",
   "version": "3.7.3"
  }
 },
 "nbformat": 4,
 "nbformat_minor": 2
}
